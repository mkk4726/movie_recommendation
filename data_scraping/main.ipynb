{
 "cells": [
  {
   "cell_type": "code",
   "execution_count": 41,
   "metadata": {},
   "outputs": [
    {
     "data": {
      "text/html": [
       "<div>\n",
       "<style scoped>\n",
       "    .dataframe tbody tr th:only-of-type {\n",
       "        vertical-align: middle;\n",
       "    }\n",
       "\n",
       "    .dataframe tbody tr th {\n",
       "        vertical-align: top;\n",
       "    }\n",
       "\n",
       "    .dataframe thead th {\n",
       "        text-align: right;\n",
       "    }\n",
       "</style>\n",
       "<table border=\"1\" class=\"dataframe\">\n",
       "  <thead>\n",
       "    <tr style=\"text-align: right;\">\n",
       "      <th></th>\n",
       "      <th>CustomID</th>\n",
       "      <th>MovieID</th>\n",
       "      <th>MovieName</th>\n",
       "      <th>Rating</th>\n",
       "    </tr>\n",
       "  </thead>\n",
       "  <tbody>\n",
       "    <tr>\n",
       "      <th>0</th>\n",
       "      <td>ZBm5R0Mj7qd46</td>\n",
       "      <td>m5XKVDL</td>\n",
       "      <td>양자물리학</td>\n",
       "      <td>3.0\\n</td>\n",
       "    </tr>\n",
       "    <tr>\n",
       "      <th>1</th>\n",
       "      <td>ZBm5R0Mj7qd46</td>\n",
       "      <td>m5Nn2GE</td>\n",
       "      <td>영화로운 작음</td>\n",
       "      <td>3.5\\n</td>\n",
       "    </tr>\n",
       "    <tr>\n",
       "      <th>2</th>\n",
       "      <td>ZBm5R0Mj7qd46</td>\n",
       "      <td>mWvq0vZ</td>\n",
       "      <td>내 방</td>\n",
       "      <td>2.5\\n</td>\n",
       "    </tr>\n",
       "    <tr>\n",
       "      <th>3</th>\n",
       "      <td>ZBm5R0Mj7qd46</td>\n",
       "      <td>mdKpyBk</td>\n",
       "      <td>성적표의 김민영</td>\n",
       "      <td>3.0\\n</td>\n",
       "    </tr>\n",
       "    <tr>\n",
       "      <th>4</th>\n",
       "      <td>ZBm5R0Mj7qd46</td>\n",
       "      <td>mOopbwm</td>\n",
       "      <td>킹덤4: 대장군의 귀환</td>\n",
       "      <td>3.0\\n</td>\n",
       "    </tr>\n",
       "    <tr>\n",
       "      <th>...</th>\n",
       "      <td>...</td>\n",
       "      <td>...</td>\n",
       "      <td>...</td>\n",
       "      <td>...</td>\n",
       "    </tr>\n",
       "    <tr>\n",
       "      <th>85886</th>\n",
       "      <td>JZ4vBd2dJxRXO</td>\n",
       "      <td>m5ZXaxK</td>\n",
       "      <td>나이트 크롤러</td>\n",
       "      <td>3.5\\n</td>\n",
       "    </tr>\n",
       "    <tr>\n",
       "      <th>85887</th>\n",
       "      <td>JZ4vBd2dJxRXO</td>\n",
       "      <td>m6dRjyd</td>\n",
       "      <td>광복절 특사</td>\n",
       "      <td>2.0\\n</td>\n",
       "    </tr>\n",
       "    <tr>\n",
       "      <th>85888</th>\n",
       "      <td>JZ4vBd2dJxRXO</td>\n",
       "      <td>mNdKPR5</td>\n",
       "      <td>말죽거리 잔혹사</td>\n",
       "      <td>2.5\\n</td>\n",
       "    </tr>\n",
       "    <tr>\n",
       "      <th>85889</th>\n",
       "      <td>JZ4vBd2dJxRXO</td>\n",
       "      <td>m45n9dN</td>\n",
       "      <td>박하사탕</td>\n",
       "      <td>4.5\\n</td>\n",
       "    </tr>\n",
       "    <tr>\n",
       "      <th>85890</th>\n",
       "      <td>JZ4vBd2dJxRXO</td>\n",
       "      <td>mO0gZ8X</td>\n",
       "      <td>킹스맨: 시크릿 에이전트</td>\n",
       "      <td>3.5\\n</td>\n",
       "    </tr>\n",
       "  </tbody>\n",
       "</table>\n",
       "<p>85891 rows × 4 columns</p>\n",
       "</div>"
      ],
      "text/plain": [
       "            CustomID  MovieID      MovieName Rating\n",
       "0      ZBm5R0Mj7qd46  m5XKVDL          양자물리학  3.0\\n\n",
       "1      ZBm5R0Mj7qd46  m5Nn2GE        영화로운 작음  3.5\\n\n",
       "2      ZBm5R0Mj7qd46  mWvq0vZ            내 방  2.5\\n\n",
       "3      ZBm5R0Mj7qd46  mdKpyBk       성적표의 김민영  3.0\\n\n",
       "4      ZBm5R0Mj7qd46  mOopbwm   킹덤4: 대장군의 귀환  3.0\\n\n",
       "...              ...      ...            ...    ...\n",
       "85886  JZ4vBd2dJxRXO  m5ZXaxK        나이트 크롤러  3.5\\n\n",
       "85887  JZ4vBd2dJxRXO  m6dRjyd         광복절 특사  2.0\\n\n",
       "85888  JZ4vBd2dJxRXO  mNdKPR5       말죽거리 잔혹사  2.5\\n\n",
       "85889  JZ4vBd2dJxRXO  m45n9dN           박하사탕  4.5\\n\n",
       "85890  JZ4vBd2dJxRXO  mO0gZ8X  킹스맨: 시크릿 에이전트  3.5\\n\n",
       "\n",
       "[85891 rows x 4 columns]"
      ]
     },
     "execution_count": 41,
     "metadata": {},
     "output_type": "execute_result"
    }
   ],
   "source": [
    "from assets.utils.txt import read_txt\n",
    "import pandas as pd\n",
    "\n",
    "row = read_txt('./data/custom_movie_rating.txt')\n",
    "column_names = [\"CustomID\", \"MovieID\", \"MovieName\", \"Rating\"]\n",
    "custom_movie_rating_df = pd.DataFrame(row, columns=column_names)\n",
    "# custom_movie_rating_df.to_csv('custom_movie_rating.csv', index=False)\n",
    "custom_movie_rating_df"
   ]
  },
  {
   "cell_type": "code",
   "execution_count": 42,
   "metadata": {},
   "outputs": [],
   "source": [
    "row = read_txt('./data/movie_info_watcha.txt')\n",
    "column_names = [\"MovieID\", \"Title\", \"Year\", \"Genre\", \"Country\", \"Runtime\", \"Age\", \"Cast_Production_Info_List\", \"Synopsis\", \"Avg_Rating\", \"N_Rating(만명)\",\"N_Comments\"]\n",
    "movie_info = pd.DataFrame(row, columns=column_names)"
   ]
  },
  {
   "cell_type": "code",
   "execution_count": 47,
   "metadata": {},
   "outputs": [],
   "source": [
    "# movie_info.to_csv('./movie_info_watch.csv', index=False)"
   ]
  },
  {
   "cell_type": "code",
   "execution_count": null,
   "metadata": {},
   "outputs": [],
   "source": []
  },
  {
   "cell_type": "code",
   "execution_count": null,
   "metadata": {},
   "outputs": [],
   "source": [
    "column_names = [\"MovieID\", \"CustomID\", \"Comment\", \"Rating\", \"N_Likes\"]\n",
    "row = read_txt(\"./data/movie_comments.txt\")\n",
    "\n",
    "# 각 청크를 병합하여 데이터프레임 생성\n",
    "movie_comments_df = pd.DataFrame(row, columns=column_names)"
   ]
  },
  {
   "cell_type": "code",
   "execution_count": 53,
   "metadata": {},
   "outputs": [],
   "source": [
    "import csv\n",
    "\n",
    "movie_comments_df.to_csv(\n",
    "    './movie_comments_df.csv',\n",
    "    index=False,         # 인덱스 제외\n",
    "    quoting=csv.QUOTE_ALL,  # 모든 필드를 따옴표로 감싸기\n",
    "    escapechar='\\\\',     # 특수 문자 이스케이프\n",
    "    doublequote=True     # 이중 따옴표 허용\n",
    ")"
   ]
  },
  {
   "cell_type": "code",
   "execution_count": null,
   "metadata": {},
   "outputs": [],
   "source": []
  },
  {
   "cell_type": "code",
   "execution_count": null,
   "metadata": {},
   "outputs": [],
   "source": []
  },
  {
   "cell_type": "code",
   "execution_count": null,
   "metadata": {},
   "outputs": [],
   "source": []
  },
  {
   "cell_type": "code",
   "execution_count": null,
   "metadata": {},
   "outputs": [],
   "source": []
  }
 ],
 "metadata": {
  "kernelspec": {
   "display_name": "chatbot_3.10.8",
   "language": "python",
   "name": "python3"
  },
  "language_info": {
   "codemirror_mode": {
    "name": "ipython",
    "version": 3
   },
   "file_extension": ".py",
   "mimetype": "text/x-python",
   "name": "python",
   "nbconvert_exporter": "python",
   "pygments_lexer": "ipython3",
   "version": "3.10.15"
  }
 },
 "nbformat": 4,
 "nbformat_minor": 2
}
