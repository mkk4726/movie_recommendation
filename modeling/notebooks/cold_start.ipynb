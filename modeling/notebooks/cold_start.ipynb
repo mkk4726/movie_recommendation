{
 "cells": [
  {
   "cell_type": "markdown",
   "id": "966dc2cc",
   "metadata": {},
   "source": [
    "cold-user에게 정보를 받는 법 고민해보기"
   ]
  },
  {
   "cell_type": "code",
   "execution_count": 1,
   "id": "1488ce0a",
   "metadata": {},
   "outputs": [
    {
     "name": "stderr",
     "output_type": "stream",
     "text": [
      "/var/folders/bw/_nzx77m90994jql91xkcq2kc0000gn/T/ipykernel_87052/3231592725.py:16: DeprecationWarning: Sampling from a set deprecated\n",
      "since Python 3.9 and will be removed in a subsequent version.\n",
      "  selected_movie_ids = set(random.sample(lot_rated_movie_ids, 10))\n",
      "/var/folders/bw/_nzx77m90994jql91xkcq2kc0000gn/T/ipykernel_87052/3231592725.py:20: DeprecationWarning: Sampling from a set deprecated\n",
      "since Python 3.9 and will be removed in a subsequent version.\n",
      "  selected_movie_ids = set(random.sample(lot_rated_movie_ids, 10))\n"
     ]
    }
   ],
   "source": [
    "import sys\n",
    "import os\n",
    "\n",
    "# 주피터 노트북 환경에서 __file__이 없으므로, 현재 워킹 디렉토리 기준으로 설정\n",
    "project_root = os.path.abspath(os.path.join(os.getcwd(), '..', '..'))\n",
    "if project_root not in sys.path:\n",
    "    sys.path.insert(0, project_root)\n",
    "\n",
    "import random\n",
    "from data_scraping.common.data_loader import load_ratings_data\n",
    "\n",
    "df_ratings = load_ratings_data()\n",
    "lot_rated_movie_ids = set(df_ratings.value_counts(subset='movie_id').sort_values(ascending=False).values[:100])\n",
    "\n",
    "# 여기 있는 영화를 보셨나요?\n",
    "selected_movie_ids = set(random.sample(lot_rated_movie_ids, 10))\n",
    "lot_rated_movie_ids = lot_rated_movie_ids - selected_movie_ids\n",
    "\n",
    "# 버튼 다시 누르면\n",
    "selected_movie_ids = set(random.sample(lot_rated_movie_ids, 10))"
   ]
  },
  {
   "cell_type": "markdown",
   "id": "5dd16dc7",
   "metadata": {},
   "source": [
    "# 수집한 거 불러오기"
   ]
  },
  {
   "cell_type": "code",
   "execution_count": 2,
   "id": "be1a6819",
   "metadata": {},
   "outputs": [
    {
     "name": "stderr",
     "output_type": "stream",
     "text": [
      "2025-10-25 21:59:12.810 Thread 'MainThread': missing ScriptRunContext! This warning can be ignored when running in bare mode.\n",
      "2025-10-25 21:59:12.812 Thread 'MainThread': missing ScriptRunContext! This warning can be ignored when running in bare mode.\n",
      "2025-10-25 21:59:12.863 \n",
      "  \u001b[33m\u001b[1mWarning:\u001b[0m to view this Streamlit app on a browser, run it with the following\n",
      "  command:\n",
      "\n",
      "    streamlit run /Users/user/miniconda3/envs/dev/lib/python3.10/site-packages/ipykernel_launcher.py [ARGUMENTS]\n",
      "2025-10-25 21:59:12.863 Thread 'MainThread': missing ScriptRunContext! This warning can be ignored when running in bare mode.\n",
      "2025-10-25 21:59:12.863 Thread 'MainThread': missing ScriptRunContext! This warning can be ignored when running in bare mode.\n",
      "2025-10-25 21:59:12.864 \n",
      "`st.cache` is deprecated and will be removed soon. Please use one of Streamlit's new\n",
      "caching commands, `st.cache_data` or `st.cache_resource`. More information\n",
      "[in our docs](https://docs.streamlit.io/develop/concepts/architecture/caching).\n",
      "\n",
      "**Note**: The behavior of `st.cache` was updated in Streamlit 1.36 to the new caching\n",
      "logic used by `st.cache_data` and `st.cache_resource`. This might lead to some problems\n",
      "or unexpected behavior in certain edge cases.\n",
      "\n",
      "2025-10-25 21:59:12.864 No runtime found, using MemoryCacheStorageManager\n"
     ]
    },
    {
     "name": "stdout",
     "output_type": "stream",
     "text": [
      "Firebase 초기화 상태: True\n"
     ]
    }
   ],
   "source": [
    "from modeling.utils.data_integration import DataIntegrator\n",
    "\n",
    "# Firebase 초기화\n",
    "from user_system.firebase_config import setup_firebase_config\n",
    "import streamlit as st\n",
    "\n",
    "# Firebase 설정\n",
    "firebase_available = setup_firebase_config()\n",
    "print(f\"Firebase 초기화 상태: {firebase_available}\")"
   ]
  },
  {
   "cell_type": "code",
   "execution_count": 3,
   "id": "f781965c",
   "metadata": {},
   "outputs": [
    {
     "name": "stdout",
     "output_type": "stream",
     "text": [
      "✅ Firebase가 성공적으로 초기화되었습니다.\n",
      "Firebase 데이터를 로드하는 중...\n",
      "Firebase 데이터: 12개 평점\n",
      "Firebase 데이터 샘플:\n",
      "                        user_id movie_id  rating\n",
      "0  SOMV3U3OEWT7LG9t2VMeNXKQchd2  m5xMKrW     1.0\n",
      "1  SOMV3U3OEWT7LG9t2VMeNXKQchd2  mJ5x8x5     5.0\n",
      "2  SOMV3U3OEWT7LG9t2VMeNXKQchd2  mJ5xvEO     3.5\n",
      "3  SOMV3U3OEWT7LG9t2VMeNXKQchd2  mJOV1RW     4.0\n",
      "4  SOMV3U3OEWT7LG9t2VMeNXKQchd2  mOVgp1d     5.0\n"
     ]
    }
   ],
   "source": [
    "# Firebase 초기화 확인\n",
    "if firebase_available:\n",
    "    print(\"✅ Firebase가 성공적으로 초기화되었습니다.\")\n",
    "    \n",
    "    # DataIntegrator 초기화\n",
    "    integrator = DataIntegrator()\n",
    "    \n",
    "    # Firebase 데이터 로드 테스트\n",
    "    print(\"Firebase 데이터를 로드하는 중...\")\n",
    "    firebase_data = integrator.load_firebase_data()\n",
    "    print(f\"Firebase 데이터: {len(firebase_data)}개 평점\")\n",
    "    \n",
    "    if not firebase_data.empty:\n",
    "        print(\"Firebase 데이터 샘플:\")\n",
    "        print(firebase_data.head())\n",
    "    else:\n",
    "        print(\"⚠️ Firebase에서 데이터를 찾을 수 없습니다.\")\n",
    "else:\n",
    "    print(\"❌ Firebase 초기화에 실패했습니다.\")\n",
    "    print(\"Firebase 설정 파일을 확인해주세요.\")\n"
   ]
  },
  {
   "cell_type": "code",
   "execution_count": 4,
   "id": "249a0643",
   "metadata": {},
   "outputs": [
    {
     "name": "stdout",
     "output_type": "stream",
     "text": [
      "=== 데이터 통합 테스트 ===\n",
      "1. 기존 데이터를 로드하는 중...\n",
      "기존 데이터: 3361101개 평점\n",
      "2. Firebase 데이터를 로드하는 중...\n",
      "Firebase 데이터: 12개 평점\n",
      "3. 데이터를 통합하는 중...\n",
      "통합된 데이터: 3361113개 평점\n",
      "\n",
      "=== 통합된 데이터 통계 ===\n",
      "총 평점 수: 3,361,113\n",
      "고유 사용자: 4,458\n",
      "고유 영화: 49,856\n",
      "평균 평점: 3.32\n",
      "\n",
      "=== 통합된 데이터 샘플 ===\n",
      "         user_id movie_id   movie_title  rating\n",
      "0  ZBm5R0Mj7qd46  m5XKVDL         양자물리학     3.0\n",
      "1  ZBm5R0Mj7qd46  m5Nn2GE       영화로운 작음     3.5\n",
      "2  ZBm5R0Mj7qd46  mWvq0vZ           내 방     2.5\n",
      "3  ZBm5R0Mj7qd46  mdKpyBk      성적표의 김민영     3.0\n",
      "4  ZBm5R0Mj7qd46  mOopbwm  킹덤4: 대장군의 귀환     3.0\n"
     ]
    }
   ],
   "source": [
    "# 데이터 통합 테스트\n",
    "if firebase_available:\n",
    "    print(\"=== 데이터 통합 테스트 ===\")\n",
    "    \n",
    "    # 1. 기존 데이터 로드\n",
    "    print(\"1. 기존 데이터를 로드하는 중...\")\n",
    "    original_data = integrator.load_original_data()\n",
    "    print(f\"기존 데이터: {len(original_data)}개 평점\")\n",
    "    \n",
    "    # 2. Firebase 데이터 로드\n",
    "    print(\"2. Firebase 데이터를 로드하는 중...\")\n",
    "    firebase_data = integrator.load_firebase_data()\n",
    "    print(f\"Firebase 데이터: {len(firebase_data)}개 평점\")\n",
    "    \n",
    "    # 3. 데이터 통합\n",
    "    if not original_data.empty or not firebase_data.empty:\n",
    "        print(\"3. 데이터를 통합하는 중...\")\n",
    "        integrated_data = integrator.integrate_data(original_data, firebase_data)\n",
    "        print(f\"통합된 데이터: {len(integrated_data)}개 평점\")\n",
    "        \n",
    "        if not integrated_data.empty:\n",
    "            # 통계 정보\n",
    "            stats = integrator.get_data_statistics(integrated_data)\n",
    "            print(\"\\n=== 통합된 데이터 통계 ===\")\n",
    "            print(f\"총 평점 수: {stats['total_ratings']:,}\")\n",
    "            print(f\"고유 사용자: {stats['unique_users']:,}\")\n",
    "            print(f\"고유 영화: {stats['unique_movies']:,}\")\n",
    "            print(f\"평균 평점: {stats['avg_rating']:.2f}\")\n",
    "            \n",
    "            # 데이터 샘플\n",
    "            print(\"\\n=== 통합된 데이터 샘플 ===\")\n",
    "            print(integrated_data.head())\n",
    "        else:\n",
    "            print(\"⚠️ 통합된 데이터가 비어있습니다.\")\n",
    "    else:\n",
    "        print(\"⚠️ 통합할 데이터가 없습니다.\")\n",
    "else:\n",
    "    print(\"Firebase가 초기화되지 않아 데이터 통합을 진행할 수 없습니다.\")\n"
   ]
  },
  {
   "cell_type": "code",
   "execution_count": null,
   "id": "b6b0956d",
   "metadata": {},
   "outputs": [],
   "source": [
    "# Firebase 설정 파일 확인\n",
    "import os\n",
    "from pathlib import Path\n",
    "\n",
    "# Firebase 설정 파일 경로들 확인\n",
    "firebase_config_paths = [\n",
    "    \"movie-recommendation-5bf7f-firebase-adminsdk-fbsvc-9818879c1d.json\",\n",
    "    \"../movie-recommendation-5bf7f-firebase-adminsdk-fbsvc-9818879c1d.json\",\n",
    "    \"../../movie-recommendation-5bf7f-firebase-adminsdk-fbsvc-9818879c1d.json\"\n",
    "]\n",
    "\n",
    "print(\"=== Firebase 설정 파일 확인 ===\")\n",
    "for path in firebase_config_paths:\n",
    "    if os.path.exists(path):\n",
    "        print(f\"✅ Firebase 설정 파일 발견: {path}\")\n",
    "        break\n",
    "else:\n",
    "    print(\"❌ Firebase 설정 파일을 찾을 수 없습니다.\")\n",
    "    print(\"다음 경로들을 확인해주세요:\")\n",
    "    for path in firebase_config_paths:\n",
    "        print(f\"  - {path}\")\n",
    "\n",
    "# 현재 작업 디렉토리 확인\n",
    "print(f\"\\n현재 작업 디렉토리: {os.getcwd()}\")\n",
    "print(f\"프로젝트 루트: {project_root}\")\n",
    "\n",
    "# Firebase 설정 파일이 있는지 확인\n",
    "firebase_key_file = project_root / \"movie-recommendation-5bf7f-firebase-adminsdk-fbsvc-9818879c1d.json\"\n",
    "if firebase_key_file.exists():\n",
    "    print(f\"✅ Firebase 키 파일 발견: {firebase_key_file}\")\n",
    "else:\n",
    "    print(f\"❌ Firebase 키 파일을 찾을 수 없습니다: {firebase_key_file}\")\n"
   ]
  },
  {
   "cell_type": "code",
   "execution_count": 18,
   "id": "f3ccd68a",
   "metadata": {},
   "outputs": [
    {
     "name": "stderr",
     "output_type": "stream",
     "text": [
      "모든 사용자 평점 조회 중 오류: Firebase가 초기화되지 않았습니다.\n",
      "Firebase에서 데이터를 찾을 수 없습니다.\n"
     ]
    }
   ],
   "source": [
    "from modeling.utils.data_integration import DataIntegrator\n",
    "\n",
    "\n",
    "integrator = DataIntegrator()\n",
    "                    \n",
    "# 1. 기존 데이터 로드\n",
    "original_data = integrator.load_original_data()\n",
    "\n",
    "# 2. Firebase 데이터 로드\n",
    "firebase_data = integrator.load_firebase_data()\n",
    "\n",
    "# 3. 데이터 통합\n",
    "integrated_data = integrator.integrate_data(original_data, firebase_data)"
   ]
  },
  {
   "cell_type": "code",
   "execution_count": 19,
   "id": "c66bf8c7",
   "metadata": {},
   "outputs": [
    {
     "data": {
      "text/html": [
       "<div>\n",
       "<style scoped>\n",
       "    .dataframe tbody tr th:only-of-type {\n",
       "        vertical-align: middle;\n",
       "    }\n",
       "\n",
       "    .dataframe tbody tr th {\n",
       "        vertical-align: top;\n",
       "    }\n",
       "\n",
       "    .dataframe thead th {\n",
       "        text-align: right;\n",
       "    }\n",
       "</style>\n",
       "<table border=\"1\" class=\"dataframe\">\n",
       "  <thead>\n",
       "    <tr style=\"text-align: right;\">\n",
       "      <th></th>\n",
       "    </tr>\n",
       "  </thead>\n",
       "  <tbody>\n",
       "  </tbody>\n",
       "</table>\n",
       "</div>"
      ],
      "text/plain": [
       "Empty DataFrame\n",
       "Columns: []\n",
       "Index: []"
      ]
     },
     "execution_count": 19,
     "metadata": {},
     "output_type": "execute_result"
    }
   ],
   "source": [
    "firebase_data"
   ]
  }
 ],
 "metadata": {
  "kernelspec": {
   "display_name": "dev",
   "language": "python",
   "name": "python3"
  },
  "language_info": {
   "codemirror_mode": {
    "name": "ipython",
    "version": 3
   },
   "file_extension": ".py",
   "mimetype": "text/x-python",
   "name": "python",
   "nbconvert_exporter": "python",
   "pygments_lexer": "ipython3",
   "version": "3.10.8"
  }
 },
 "nbformat": 4,
 "nbformat_minor": 5
}
