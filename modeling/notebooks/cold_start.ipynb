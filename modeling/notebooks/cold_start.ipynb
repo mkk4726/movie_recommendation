{
 "cells": [
  {
   "cell_type": "markdown",
   "id": "966dc2cc",
   "metadata": {},
   "source": [
    "cold-user에게 정보를 받는 법 고민해보기"
   ]
  },
  {
   "cell_type": "code",
   "execution_count": 13,
   "id": "1488ce0a",
   "metadata": {},
   "outputs": [
    {
     "name": "stderr",
     "output_type": "stream",
     "text": [
      "/var/folders/bw/_nzx77m90994jql91xkcq2kc0000gn/T/ipykernel_82614/399411633.py:17: DeprecationWarning: Sampling from a set deprecated\n",
      "since Python 3.9 and will be removed in a subsequent version.\n",
      "  selected_movie_ids = set(random.sample(lot_rated_movie_ids, 10))\n",
      "/var/folders/bw/_nzx77m90994jql91xkcq2kc0000gn/T/ipykernel_82614/399411633.py:21: DeprecationWarning: Sampling from a set deprecated\n",
      "since Python 3.9 and will be removed in a subsequent version.\n",
      "  selected_movie_ids = set(random.sample(lot_rated_movie_ids, 10))\n"
     ]
    }
   ],
   "source": [
    "import sys\n",
    "import os\n",
    "\n",
    "# 주피터 노트북 환경에서 __file__이 없으므로, 현재 워킹 디렉토리 기준으로 설정\n",
    "project_root = os.path.abspath(os.path.join(os.getcwd(), '..', '..'))\n",
    "if project_root not in sys.path:\n",
    "    sys.path.insert(0, project_root)\n",
    "\n",
    "from data_scraping.common.data_loader import load_ratings_data\n",
    "    \n",
    "import random\n",
    "    \n",
    "df_ratings = load_ratings_data()\n",
    "lot_rated_movie_ids = set(df_ratings.value_counts(subset='movie_id').sort_values(ascending=False).values[:100])\n",
    "\n",
    "# 여기 있는 영화를 보셨나요?\n",
    "selected_movie_ids = set(random.sample(lot_rated_movie_ids, 10))\n",
    "lot_rated_movie_ids = lot_rated_movie_ids - selected_movie_ids\n",
    "\n",
    "# 버튼 다시 누르면\n",
    "selected_movie_ids = set(random.sample(lot_rated_movie_ids, 10))"
   ]
  },
  {
   "cell_type": "code",
   "execution_count": null,
   "id": "f3ccd68a",
   "metadata": {},
   "outputs": [],
   "source": []
  },
  {
   "cell_type": "code",
   "execution_count": null,
   "id": "c66bf8c7",
   "metadata": {},
   "outputs": [],
   "source": []
  }
 ],
 "metadata": {
  "kernelspec": {
   "display_name": "dev",
   "language": "python",
   "name": "python3"
  },
  "language_info": {
   "codemirror_mode": {
    "name": "ipython",
    "version": 3
   },
   "file_extension": ".py",
   "mimetype": "text/x-python",
   "name": "python",
   "nbconvert_exporter": "python",
   "pygments_lexer": "ipython3",
   "version": "3.10.8"
  }
 },
 "nbformat": 4,
 "nbformat_minor": 5
}
